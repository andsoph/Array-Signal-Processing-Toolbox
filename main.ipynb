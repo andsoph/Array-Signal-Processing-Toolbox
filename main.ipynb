{
 "cells": [
  {
   "cell_type": "code",
   "execution_count": 1,
   "metadata": {},
   "outputs": [],
   "source": [
    "#MAIN SCRIPT\n",
    "\n",
    "import numpy as np\n",
    "import matplotlib.pyplot as plt\n",
    "from scipy import signal\n",
    "\n",
    "from ArrayGeometryClass import ArrayGeometry\n",
    "from ReceivedSignalModelClass import ReceivedSignalModel\n",
    "from MUSICAlgorithmClass import MUSICAlgorithm"
   ]
  },
  {
   "cell_type": "code",
   "execution_count": 2,
   "metadata": {},
   "outputs": [],
   "source": [
    "%matplotlib tk\n",
    "# Example usage\n",
    "\n",
    "# Define parameters\n",
    "frequency = 3e9  # 1 GHz\n",
    "num_elements = 8\n",
    "nyquist_factor = 1\n",
    "\n",
    "# Create ArrayGeometry object for ULA\n",
    "ula = ArrayGeometry(array_type='ULA', frequency=frequency, num_elements=num_elements, nyquist_factor=nyquist_factor)\n",
    "ula.plot_array()\n",
    "\n",
    "# # Create ArrayGeometry object for UCA\n",
    "uca = ArrayGeometry(array_type='UCA', frequency=frequency, num_elements=num_elements, nyquist_factor=nyquist_factor)\n",
    "uca.plot_array()\n",
    "\n"
   ]
  },
  {
   "cell_type": "code",
   "execution_count": 4,
   "metadata": {},
   "outputs": [],
   "source": [
    "AoA = [10, 23]  # True angles of arrival in degrees\n",
    "noise_variance = 0.01\n",
    "snapshots = 1000"
   ]
  },
  {
   "cell_type": "code",
   "execution_count": 5,
   "metadata": {},
   "outputs": [
    {
     "name": "stdout",
     "output_type": "stream",
     "text": [
      "Estimated number of sources: 1\n"
     ]
    }
   ],
   "source": [
    "# Create ReceivedSignalModel object\n",
    "received_signal_model = ReceivedSignalModel(array_geometry=ula, angles=AoA, noise_variance=noise_variance, snapshots=snapshots)\n",
    "\n",
    "# Generate received signal\n",
    "y_t = received_signal_model.generate_received_signal()\n",
    "\n",
    "# Compute covariance matrix\n",
    "R_y = received_signal_model.compute_covariance_matrix(y_t)\n",
    "\n",
    "# Apply MUSIC algorithm\n",
    "music_algo = MUSICAlgorithm(R=R_y, array_geometry=ula, snapshots=snapshots)\n",
    "\n",
    "# Estimate number of sources\n",
    "estimated_sources, mdl_values = music_algo.estimate_number_of_sources_mdl()\n",
    "print(f\"Estimated number of sources: {estimated_sources}\")\n",
    "\n",
    "# Estimate noise subspace\n",
    "noise_subspace = music_algo.estimate_noise_subspace(num_sources=estimated_sources)"
   ]
  },
  {
   "cell_type": "code",
   "execution_count": 6,
   "metadata": {},
   "outputs": [
    {
     "name": "stdout",
     "output_type": "stream",
     "text": [
      "Estimated DOAs: [-76.84634621 -45.8877466  -27.53264796 -11.67824396   6.92692415\n",
      "  26.33231453  50.08891359]\n"
     ]
    }
   ],
   "source": [
    "# Define angles for spectrum calculation\n",
    "scan_range = np.linspace(-90, 90, 3600)\n",
    "\n",
    "# Calculate MUSIC spectrum\n",
    "spectrum = music_algo.music_spectrum(noise_subspace, scan_range)\n",
    "\n",
    "# Estimate DOAs\n",
    "estimated_doas = music_algo.estimate_doas(spectrum, scan_range)\n",
    "#print(f\"Estimated DOAs: {estimated_doas}\")\n",
    "\n",
    "# Plot the MUSIC spectrum\n",
    "music_algo.plot_spectrum(spectrum,scan_range)"
   ]
  }
 ],
 "metadata": {
  "kernelspec": {
   "display_name": "ecliptic",
   "language": "python",
   "name": "python3"
  },
  "language_info": {
   "codemirror_mode": {
    "name": "ipython",
    "version": 3
   },
   "file_extension": ".py",
   "mimetype": "text/x-python",
   "name": "python",
   "nbconvert_exporter": "python",
   "pygments_lexer": "ipython3",
   "version": "3.12.4"
  }
 },
 "nbformat": 4,
 "nbformat_minor": 2
}
